{
 "cells": [
  {
   "cell_type": "code",
   "execution_count": 60,
   "metadata": {},
   "outputs": [],
   "source": [
    "\n",
    "# Introduction to pandas:\n",
    "# https://pandas.pydata.org/docs/getting_started/index.html#getting-started\n",
    "\n",
    "#load libraries\n",
    "\n",
    "import pandas as pd\n",
    "import seaborn as sns"
   ]
  },
  {
   "cell_type": "code",
   "execution_count": 57,
   "metadata": {},
   "outputs": [],
   "source": [
    "#load excel data via filepath\n",
    "\n",
    "data = pd.read_excel('/Users/jamescarney/Downloads/Sprint data_final.xlsx')"
   ]
  },
  {
   "cell_type": "code",
   "execution_count": null,
   "metadata": {},
   "outputs": [],
   "source": [
    "#load first 5 rows of data\n",
    "\n",
    "data.head()"
   ]
  },
  {
   "cell_type": "code",
   "execution_count": null,
   "metadata": {},
   "outputs": [],
   "source": [
    "#load first n rows of data\n",
    "\n",
    "data.head(n=4)\n",
    "\n",
    "# Task: Get the first 10 rows of data"
   ]
  },
  {
   "cell_type": "code",
   "execution_count": null,
   "metadata": {},
   "outputs": [],
   "source": [
    "#load last 5 rows of data\n",
    "\n",
    "data.tail()"
   ]
  },
  {
   "cell_type": "code",
   "execution_count": null,
   "metadata": {},
   "outputs": [],
   "source": [
    "#load last n rows of data\n",
    "\n",
    "data.tail(n=4)\n",
    "\n",
    "# Task: Get the last 3 rows of data"
   ]
  },
  {
   "cell_type": "code",
   "execution_count": null,
   "metadata": {},
   "outputs": [],
   "source": [
    "#Lists column names\n",
    "\n",
    "data.columns\n",
    "\n",
    "# Task: Get the third column name"
   ]
  },
  {
   "cell_type": "code",
   "execution_count": null,
   "metadata": {},
   "outputs": [],
   "source": [
    "# Gives descriptive statistics for all columns of numerical data\n",
    "\n",
    "data.describe()"
   ]
  },
  {
   "cell_type": "code",
   "execution_count": null,
   "metadata": {},
   "outputs": [],
   "source": [
    "# Outputs named columns\n",
    "\n",
    "data['Age']\n",
    "\n",
    "# Task: Print the contents of any other column"
   ]
  },
  {
   "cell_type": "code",
   "execution_count": null,
   "metadata": {},
   "outputs": [],
   "source": [
    "# Gives descriptive statistics for named columns of numerical data\n",
    "\n",
    "data['Age'].describe()\n",
    "\n",
    "# Task: Get descriptive statistics for any other two named columns of numerical data"
   ]
  },
  {
   "cell_type": "code",
   "execution_count": null,
   "metadata": {},
   "outputs": [],
   "source": [
    "# Gives the fifth entry of the 'Age' column\n",
    "\n",
    "data['Age'][4]\n",
    "\n",
    "# Task: Print the 30th entry in the 'Age' column"
   ]
  },
  {
   "cell_type": "code",
   "execution_count": null,
   "metadata": {},
   "outputs": [],
   "source": [
    "#Gives the fifth row\n",
    "\n",
    "data.iloc[4] \n",
    "\n",
    "# Task: Get three other rows of data"
   ]
  },
  {
   "cell_type": "code",
   "execution_count": null,
   "metadata": {},
   "outputs": [],
   "source": [
    "# Gives the fifth entry of the 'Age' column\n",
    "\n",
    "data.iloc[4, 0]\n",
    "\n",
    "# Task: Get the tenth entry in the 'Gender' column\n",
    "# Task: Get the 67th entry in the 'Nationality' column"
   ]
  },
  {
   "cell_type": "code",
   "execution_count": null,
   "metadata": {},
   "outputs": [],
   "source": [
    "# Get the number of each natioanlity\n",
    "\n",
    "data['Nationality'].value_counts()\n",
    "\n",
    "# Task: Get the number of each age"
   ]
  },
  {
   "cell_type": "code",
   "execution_count": null,
   "metadata": {},
   "outputs": [],
   "source": [
    "# Create new column that multiples everyone's age by 2.\n",
    "\n",
    "data['Age_2'] = data['Age']*2\n",
    "\n",
    "# Task: create new column that gives the square of everyone's age."
   ]
  },
  {
   "cell_type": "code",
   "execution_count": null,
   "metadata": {},
   "outputs": [],
   "source": [
    "# Groups the data by nationality\n",
    "\n",
    "data2 = data.groupby('Nationality')"
   ]
  },
  {
   "cell_type": "code",
   "execution_count": null,
   "metadata": {},
   "outputs": [],
   "source": [
    "# Gets all British participants\n",
    "\n",
    "data2.get_group('British')\n",
    "\n",
    "# Task: Get all Spanish participants"
   ]
  },
  {
   "cell_type": "code",
   "execution_count": null,
   "metadata": {},
   "outputs": [],
   "source": [
    "# Groups by gender and nationality\n",
    "\n",
    "data2 = data.groupby(['Gender','Nationality'])"
   ]
  },
  {
   "cell_type": "code",
   "execution_count": null,
   "metadata": {},
   "outputs": [],
   "source": [
    "# Gets all female British participants\n",
    "\n",
    "data2.get_group(('Female', 'British'))\n",
    "\n",
    "# Task: Group by Age and Gender and get the entries for 20 year old males"
   ]
  },
  {
   "cell_type": "code",
   "execution_count": null,
   "metadata": {},
   "outputs": [],
   "source": [
    "'''\n",
    "Without \n",
    "\n",
    "\n",
    "\n",
    "'''"
   ]
  }
 ],
 "metadata": {
  "kernelspec": {
   "display_name": "Python 3",
   "language": "python",
   "name": "python3"
  },
  "language_info": {
   "codemirror_mode": {
    "name": "ipython",
    "version": 3
   },
   "file_extension": ".py",
   "mimetype": "text/x-python",
   "name": "python",
   "nbconvert_exporter": "python",
   "pygments_lexer": "ipython3",
   "version": "3.7.6"
  }
 },
 "nbformat": 4,
 "nbformat_minor": 4
}
