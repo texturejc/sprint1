{
 "cells": [
  {
   "cell_type": "code",
   "execution_count": 1,
   "metadata": {},
   "outputs": [],
   "source": [
    "\n",
    "# Introduction to pandas:\n",
    "\n",
    "#pandas guides available at https://pandas.pydata.org/docs/getting_started/index.html#getting-started\n",
    "\n",
    "#load libraries\n",
    "\n",
    "import pandas as pd #loads the pandas data science library\n",
    "import seaborn as sns # loads the seaborn plotting libary\n",
    "sns.set()"
   ]
  },
  {
   "cell_type": "code",
   "execution_count": 5,
   "metadata": {},
   "outputs": [],
   "source": [
    "#load excel data via filepath; YOU WILL NEED TO FIND YOUR OWN FILEPATH\n",
    "\n",
    "data = pd.read_excel('Sprint data_working file.xlsx')"
   ]
  },
  {
   "cell_type": "code",
   "execution_count": null,
   "metadata": {},
   "outputs": [],
   "source": [
    "#Top 5 rows of data\n",
    "\n",
    "data.head()"
   ]
  },
  {
   "cell_type": "code",
   "execution_count": null,
   "metadata": {},
   "outputs": [],
   "source": [
    "# Top 20 rows of data\n",
    "\n",
    "data.head(n=20)"
   ]
  },
  {
   "cell_type": "code",
   "execution_count": null,
   "metadata": {},
   "outputs": [],
   "source": [
    "#load last n rows of data\n",
    "\n",
    "data.tail(n=4)\n",
    "\n",
    "# Task: Get the last 3 rows of data"
   ]
  },
  {
   "cell_type": "code",
   "execution_count": null,
   "metadata": {},
   "outputs": [],
   "source": [
    "#load last 5 rows of data\n",
    "\n",
    "data.tail()"
   ]
  },
  {
   "cell_type": "code",
   "execution_count": null,
   "metadata": {},
   "outputs": [],
   "source": [
    "#Lists column names\n",
    "\n",
    "data.columns"
   ]
  },
  {
   "cell_type": "code",
   "execution_count": null,
   "metadata": {},
   "outputs": [],
   "source": [
    "# Gives descriptive statistics for all columns of numerical data\n",
    "\n",
    "data.describe()"
   ]
  },
  {
   "cell_type": "code",
   "execution_count": null,
   "metadata": {},
   "outputs": [],
   "source": [
    "# Outputs named columns\n",
    "\n",
    "data['Age']\n",
    "\n"
   ]
  },
  {
   "cell_type": "code",
   "execution_count": null,
   "metadata": {},
   "outputs": [],
   "source": [
    "# Gives descriptive statistics for named columns of numerical data\n",
    "\n",
    "data['Age'].describe()\n",
    "\n",
    "# Task: Get descriptive statistics for any other two named columns of numerical data"
   ]
  },
  {
   "cell_type": "code",
   "execution_count": 11,
   "metadata": {},
   "outputs": [
    {
     "data": {
      "text/plain": [
       "24"
      ]
     },
     "execution_count": 11,
     "metadata": {},
     "output_type": "execute_result"
    }
   ],
   "source": [
    "# Gives the fifth entry of the 'Age' column. Note that in Python counting starts at 0, not 1. \n",
    "\n",
    "data['Age'][4]\n"
   ]
  },
  {
   "cell_type": "code",
   "execution_count": 13,
   "metadata": {},
   "outputs": [
    {
     "data": {
      "text/plain": [
       "15"
      ]
     },
     "execution_count": 13,
     "metadata": {},
     "output_type": "execute_result"
    }
   ],
   "source": [
    "# Gives the fifth entry of the 'Age' column\n",
    "\n",
    "data.iloc[4, 0]\n",
    "\n",
    "# Task: Get the tenth entry in the 'Gender' column\n",
    "# Task: Get the 67th entry in the 'Nationality' column"
   ]
  },
  {
   "cell_type": "code",
   "execution_count": null,
   "metadata": {},
   "outputs": [],
   "source": [
    "#Gives the fifth row\n",
    "\n",
    "data.iloc[4] \n",
    "\n",
    "# Task: Get three other rows of data"
   ]
  },
  {
   "cell_type": "code",
   "execution_count": 15,
   "metadata": {},
   "outputs": [],
   "source": [
    "# Subsets the dataframe into these five columns\n",
    "\n",
    "data = data[['Age', 'Gender', 'Nationality', 'Alert_before', 'pain threshold_time_difference_seconds']]"
   ]
  },
  {
   "cell_type": "code",
   "execution_count": null,
   "metadata": {},
   "outputs": [],
   "source": [
    "# View rows 4 to 11. \n",
    "\n",
    "data.iloc[4:12]"
   ]
  },
  {
   "cell_type": "code",
   "execution_count": 17,
   "metadata": {},
   "outputs": [],
   "source": [
    "# Renames the columns into something easier\n",
    "\n",
    "data.columns = ['Age', 'Gender', 'Nationality', 'Alert_before', 'pain time difference']"
   ]
  },
  {
   "cell_type": "code",
   "execution_count": null,
   "metadata": {},
   "outputs": [],
   "source": [
    "# Get the number of each nationality\n",
    "\n",
    "data['Nationality'].value_counts()\n"
   ]
  },
  {
   "cell_type": "code",
   "execution_count": 21,
   "metadata": {},
   "outputs": [],
   "source": [
    "# Create new column that multiples everyone's age by 2.\n",
    "\n",
    "data['Age_2'] = data['Age']*2\n"
   ]
  },
  {
   "cell_type": "code",
   "execution_count": null,
   "metadata": {},
   "outputs": [],
   "source": [
    "# Groups the data by nationality\n",
    "\n",
    "data2 = data.groupby('Nationality')"
   ]
  },
  {
   "cell_type": "code",
   "execution_count": null,
   "metadata": {},
   "outputs": [],
   "source": [
    "# Gets all British participants\n",
    "\n",
    "data2.get_group('British')\n",
    "\n",
    "# Task: Get all Spanish participants"
   ]
  },
  {
   "cell_type": "code",
   "execution_count": null,
   "metadata": {},
   "outputs": [],
   "source": [
    "# Groups by gender and nationality\n",
    "\n",
    "data2 = data.groupby(['Gender','Nationality'])"
   ]
  },
  {
   "cell_type": "code",
   "execution_count": null,
   "metadata": {},
   "outputs": [],
   "source": [
    "# Gets all female British participants\n",
    "\n",
    "data2.get_group(('Female', 'British'))\n"
   ]
  },
  {
   "cell_type": "code",
   "execution_count": null,
   "metadata": {},
   "outputs": [],
   "source": [
    "# Creates scatterplot of ages over gender\n",
    "\n",
    "sns.scatterplot(x = 'Gender', y = 'Age', data = data)"
   ]
  },
  {
   "cell_type": "code",
   "execution_count": null,
   "metadata": {},
   "outputs": [],
   "source": [
    "# Creates barplot of pain thresholds by gender \n",
    "\n",
    "sns.barplot(x = 'Gender', y = 'pain time difference', data = data)\n"
   ]
  },
  {
   "cell_type": "code",
   "execution_count": null,
   "metadata": {},
   "outputs": [],
   "source": [
    "'''\n",
    "EXERCISES\n",
    "\n",
    "Try the following tasks. (You will need to search online for answers.)\n",
    "\n",
    "1. Rename the columns using lowercase script\n",
    "\n",
    "2. Create a new dataframe made up of rows 9 to 19 (use a new name for this dataframe).\n",
    "\n",
    "3. Which nationality occurs least often in the data?\n",
    "\n",
    "4. Find the median age of participants.\n",
    "\n",
    "5. Create a new dataframe from the 'Age' and 'Gender' columns (use a new name for this dataframe).\n",
    "\n",
    "6. Using seaborn, create a barchart of age by nationality.\n",
    "\n",
    "7. Using seaborn, create a barchart of age by nationality, but find a way to include gender.\n",
    "\n",
    "8. Make all nationalities into lowercase entries.\n",
    "\n",
    "9. Create a new column where every entry consists of the word 'tested'.\n",
    "\n",
    "10.Surprise me ...\n",
    "\n",
    "\n",
    "\n",
    "\n",
    "'''"
   ]
  }
 ],
 "metadata": {
  "kernelspec": {
   "display_name": "Python 3",
   "language": "python",
   "name": "python3"
  },
  "language_info": {
   "codemirror_mode": {
    "name": "ipython",
    "version": 3
   },
   "file_extension": ".py",
   "mimetype": "text/x-python",
   "name": "python",
   "nbconvert_exporter": "python",
   "pygments_lexer": "ipython3",
   "version": "3.7.6"
  }
 },
 "nbformat": 4,
 "nbformat_minor": 4
}
