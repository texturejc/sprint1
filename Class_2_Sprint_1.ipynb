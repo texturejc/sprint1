{
 "cells": [
  {
   "cell_type": "code",
   "execution_count": 2,
   "metadata": {},
   "outputs": [],
   "source": [
    "\n",
    "# Introduction to pandas:\n",
    "\n",
    "#pandas guides available at https://pandas.pydata.org/docs/getting_started/index.html#getting-started\n",
    "\n",
    "#load libraries\n",
    "\n",
    "import pandas as pd #loads the pandas data science library\n",
    "import seaborn as sns # loads the seaborn plotting libary\n",
    "import scipy as sp\n",
    "sns.set()"
   ]
  },
  {
   "cell_type": "code",
   "execution_count": 3,
   "metadata": {},
   "outputs": [],
   "source": [
    "#load excel data via filepath; YOU WILL NEED TO FIND YOUR OWN FILEPATH\n",
    "\n",
    "data = pd.read_excel('Sprint data_working file.xlsx')"
   ]
  },
  {
   "cell_type": "code",
   "execution_count": 4,
   "metadata": {},
   "outputs": [],
   "source": [
    "# Subsets the dataframe into these five columns\n",
    "\n",
    "data = data[['Age', 'Gender', 'Nationality', 'Alert_before', 'pain threshold_time_difference_seconds']]"
   ]
  },
  {
   "cell_type": "code",
   "execution_count": 5,
   "metadata": {},
   "outputs": [],
   "source": [
    "# Renames the columns\n",
    "\n",
    "data.columns = ['Age', 'Gender', 'Nationality', 'Alert_before', 'pain_diff']"
   ]
  },
  {
   "cell_type": "code",
   "execution_count": 6,
   "metadata": {},
   "outputs": [],
   "source": [
    "#Set all nationalities as lowercase\n",
    "\n",
    "data['Nationality'] = [i.lower() for i in data['Nationality']]\n",
    "\n",
    "# Exercise: Create new column with new name of nationalities in upper case\n",
    "# Exercise: Create new column with new name of nationalities spelled backwards in it.\n",
    "# Exercise: Create new column with new name that gives the square of the 'pain_diff' column.\n",
    "# Delete all these new columns"
   ]
  },
  {
   "cell_type": "code",
   "execution_count": 9,
   "metadata": {},
   "outputs": [],
   "source": [
    "#Get all participants above 30\n",
    "\n",
    "data_30_up = data[data['Age'] >= 30]\n",
    "\n",
    "# Exercise: get a dataframe with all the ages that are even numbers"
   ]
  },
  {
   "cell_type": "code",
   "execution_count": 11,
   "metadata": {},
   "outputs": [],
   "source": [
    "# Get participants who are 30 or over and British ('&' is used as the AND operator in pandas)\n",
    "\n",
    "data_30_uk = data[(data['Age'] >= 30) & (data['Nationality'] == 'british')]\n",
    "\n",
    "# Exercise: get a dataframe with all female Chinese participants"
   ]
  },
  {
   "cell_type": "code",
   "execution_count": 30,
   "metadata": {},
   "outputs": [],
   "source": [
    "data_F_chinese = data[(data['Gender'] == 'Female') & (data['Nationality'] == 'chinese')]"
   ]
  },
  {
   "cell_type": "code",
   "execution_count": null,
   "metadata": {},
   "outputs": [],
   "source": [
    "# Gets data for participants aged 30+ or 22 and younger ('|' is the OR operator in pandas)\n",
    "\n",
    "data_outliers = data[(data['Age'] >= 30) | (data['Age'] <= 22)]"
   ]
  },
  {
   "cell_type": "code",
   "execution_count": null,
   "metadata": {},
   "outputs": [],
   "source": [
    "# Prints data without truncating it.\n",
    "\n",
    "print([i for i in data['Nationality']])"
   ]
  },
  {
   "cell_type": "code",
   "execution_count": null,
   "metadata": {},
   "outputs": [],
   "source": [
    "# Get max value for a column\n",
    "\n",
    "data['Age'].max()"
   ]
  },
  {
   "cell_type": "code",
   "execution_count": null,
   "metadata": {},
   "outputs": [],
   "source": [
    "# Get min value for a column\n",
    "\n",
    "data['Age'].min()"
   ]
  },
  {
   "cell_type": "code",
   "execution_count": null,
   "metadata": {},
   "outputs": [],
   "source": [
    "# Get median value for a column\n",
    "\n",
    "data['pain_diff'].median()"
   ]
  },
  {
   "cell_type": "code",
   "execution_count": 41,
   "metadata": {},
   "outputs": [],
   "source": [
    "# Get row with the max value for pain_diff\n",
    "\n",
    "data_pain_max = data[data['pain_diff'] == data['pain_diff'].max()]\n",
    "\n",
    "# Exercise: Get the row with third highest value (hint: look up the pandas 'rank' function)"
   ]
  },
  {
   "cell_type": "code",
   "execution_count": 43,
   "metadata": {},
   "outputs": [],
   "source": [
    "# Create a dataframe from the rows that are great than or equal to the pain_diff median.\n",
    "\n",
    "data_median_higher = data[data['pain_diff'] >= data['pain_diff'].median()]\n",
    "\n",
    "# Exercise: the median is the value that splits the data in half: 50% it is below and 50% is above. Get a dataframe\n",
    "# that contains the top 25% of the data. (Hint: look up the pandas quantile function)"
   ]
  },
  {
   "cell_type": "code",
   "execution_count": 25,
   "metadata": {},
   "outputs": [],
   "source": [
    "# Gets participants greater than or equal to 30 or less than or equal to 22\n",
    "\n",
    "data_outliers = data[(data['Age'] >= 30) | (data['Age'] <= 22)]\n",
    "\n",
    "\n",
    "# Get participants who are male or equal to 32 or less than or equal to 25\n",
    "# Get participants who are British males or greater than equal to 31 or less than or equal to 24"
   ]
  },
  {
   "cell_type": "code",
   "execution_count": 17,
   "metadata": {},
   "outputs": [],
   "source": [
    "x = [i for i in data['Nationality'] if 'british' in i]\n",
    "\n"
   ]
  },
  {
   "cell_type": "code",
   "execution_count": 30,
   "metadata": {},
   "outputs": [],
   "source": [
    "nation = set(data['Nationality'])"
   ]
  },
  {
   "cell_type": "code",
   "execution_count": 15,
   "metadata": {},
   "outputs": [],
   "source": [
    "c_tab = pd.crosstab(data['Gender'], data['Nationality'])"
   ]
  },
  {
   "cell_type": "code",
   "execution_count": 47,
   "metadata": {},
   "outputs": [
    {
     "data": {
      "text/plain": [
       "array([[<matplotlib.axes._subplots.AxesSubplot object at 0x7fa0012ac110>,\n",
       "        <matplotlib.axes._subplots.AxesSubplot object at 0x7fa03072ed10>],\n",
       "       [<matplotlib.axes._subplots.AxesSubplot object at 0x7fa05054a990>,\n",
       "        <matplotlib.axes._subplots.AxesSubplot object at 0x7fa050586d10>]],\n",
       "      dtype=object)"
      ]
     },
     "execution_count": 47,
     "metadata": {},
     "output_type": "execute_result"
    },
    {
     "data": {
      "image/png": "[encoded data removed]",
      "text/plain": [
       "<Figure size 432x288 with 4 Axes>"
      ]
     },
     "metadata": {},
     "output_type": "display_data"
    }
   ],
   "source": [
    "pd.plotting.scatter_matrix(data[['Age', 'pain_diff']])"
   ]
  },
  {
   "cell_type": "code",
   "execution_count": null,
   "metadata": {},
   "outputs": [],
   "source": []
  }
 ],
 "metadata": {
  "kernelspec": {
   "display_name": "Python 3",
   "language": "python",
   "name": "python3"
  },
  "language_info": {
   "codemirror_mode": {
    "name": "ipython",
    "version": 3
   },
   "file_extension": ".py",
   "mimetype": "text/x-python",
   "name": "python",
   "nbconvert_exporter": "python",
   "pygments_lexer": "ipython3",
   "version": "3.7.6"
  }
 },
 "nbformat": 4,
 "nbformat_minor": 4
}
